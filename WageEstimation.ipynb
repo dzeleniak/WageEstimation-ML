{
 "cells": [
  {
   "cell_type": "markdown",
   "metadata": {},
   "source": [
    "## Imports"
   ]
  },
  {
   "cell_type": "code",
   "execution_count": 1,
   "metadata": {},
   "outputs": [],
   "source": [
    "import numpy as np\n",
    "import pandas as pd"
   ]
  },
  {
   "cell_type": "markdown",
   "metadata": {},
   "source": [
    "## Data Imports"
   ]
  },
  {
   "cell_type": "code",
   "execution_count": 9,
   "metadata": {},
   "outputs": [
    {
     "name": "stdout",
     "output_type": "stream",
     "text": [
      "<class 'pandas.core.frame.DataFrame'>\n",
      "RangeIndex: 48842 entries, 0 to 48841\n",
      "Data columns (total 15 columns):\n",
      " #   Column           Non-Null Count  Dtype \n",
      "---  ------           --------------  ----- \n",
      " 0   age              48842 non-null  int64 \n",
      " 1    workclass       48842 non-null  object\n",
      " 2    fnlwgt          48842 non-null  int64 \n",
      " 3    education       48842 non-null  object\n",
      " 4    education-num   48842 non-null  int64 \n",
      " 5    marital-status  48842 non-null  object\n",
      " 6    occupation      48842 non-null  object\n",
      " 7    relationship    48842 non-null  object\n",
      " 8    race            48842 non-null  object\n",
      " 9    sex             48842 non-null  object\n",
      " 10   capital-gain    48842 non-null  int64 \n",
      " 11   capital-loss    48842 non-null  int64 \n",
      " 12   hours-per-week  48842 non-null  int64 \n",
      " 13   native-country  48842 non-null  object\n",
      " 14   salary          48842 non-null  object\n",
      "dtypes: int64(6), object(9)\n",
      "memory usage: 5.6+ MB\n"
     ]
    }
   ],
   "source": [
    "data = pd.read_csv(\"adult_data.csv\")\n",
    "data = pd.DataFrame(data)\n",
    "data.info()"
   ]
  }
 ],
 "metadata": {
  "interpreter": {
   "hash": "40d3a090f54c6569ab1632332b64b2c03c39dcf918b08424e98f38b5ae0af88f"
  },
  "kernelspec": {
   "display_name": "Python 3.8.5 ('base')",
   "language": "python",
   "name": "python3"
  },
  "language_info": {
   "codemirror_mode": {
    "name": "ipython",
    "version": 3
   },
   "file_extension": ".py",
   "mimetype": "text/x-python",
   "name": "python",
   "nbconvert_exporter": "python",
   "pygments_lexer": "ipython3",
   "version": "3.8.5"
  },
  "orig_nbformat": 4
 },
 "nbformat": 4,
 "nbformat_minor": 2
}
